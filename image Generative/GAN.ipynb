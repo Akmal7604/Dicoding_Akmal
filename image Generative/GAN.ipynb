{
 "cells": [
  {
   "cell_type": "code",
   "execution_count": 1,
   "id": "8815726f",
   "metadata": {},
   "outputs": [],
   "source": [
    "import torch\n",
    "import torch.nn as nn\n",
    "import torch.optim as optim\n",
    "from torchvision import datasets, transforms\n",
    "\n",
    "# Ensure there is no file named 'torchvision.py' in the working directory to avoid circular import issues."
   ]
  },
  {
   "cell_type": "code",
   "execution_count": 2,
   "id": "1b914fe0",
   "metadata": {},
   "outputs": [],
   "source": [
    "latent_dim = 100\n",
    "hidden_dim = 256\n",
    "image_dim = 28 * 28\n",
    "batch_size = 64\n",
    "learning_rate = 0.0002\n",
    "num_epochs = 50"
   ]
  },
  {
   "cell_type": "code",
   "execution_count": 3,
   "id": "dff0cd0c",
   "metadata": {},
   "outputs": [
    {
     "name": "stderr",
     "output_type": "stream",
     "text": [
      "100%|██████████| 9.91M/9.91M [05:31<00:00, 29.9kB/s]\n",
      "100%|██████████| 28.9k/28.9k [00:00<00:00, 38.6kB/s]\n",
      "100%|██████████| 1.65M/1.65M [00:31<00:00, 52.1kB/s]\n",
      "100%|██████████| 4.54k/4.54k [00:00<00:00, 1.14MB/s]\n"
     ]
    }
   ],
   "source": [
    "transform = transforms.Compose([transforms.ToTensor(), transforms.Normalize((0.5,), (0.5,))])\n",
    "train_dataset = datasets.MNIST(root='./data', train=True, transform=transform, download=True)\n",
    "train_loader = torch.utils.data.DataLoader(dataset=train_dataset, batch_size=batch_size, shuffle=True)"
   ]
  }
 ],
 "metadata": {
  "kernelspec": {
   "display_name": ".venv",
   "language": "python",
   "name": "python3"
  },
  "language_info": {
   "codemirror_mode": {
    "name": "ipython",
    "version": 3
   },
   "file_extension": ".py",
   "mimetype": "text/x-python",
   "name": "python",
   "nbconvert_exporter": "python",
   "pygments_lexer": "ipython3",
   "version": "3.9.5"
  }
 },
 "nbformat": 4,
 "nbformat_minor": 5
}
