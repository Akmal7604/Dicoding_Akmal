{
 "cells": [
  {
   "cell_type": "code",
   "execution_count": 1,
   "metadata": {},
   "outputs": [
    {
     "name": "stdout",
     "output_type": "stream",
     "text": [
      "Min-Max Scaling:\n",
      " [[0.16666667]\n",
      " [0.        ]\n",
      " [0.58333333]\n",
      " [0.79166667]\n",
      " [1.        ]]\n",
      "\n",
      "Standardization:\n",
      " [[-0.91133616]\n",
      " [-1.35589038]\n",
      " [ 0.2000494 ]\n",
      " [ 0.75574218]\n",
      " [ 1.31143496]]\n"
     ]
    }
   ],
   "source": [
    "from sklearn.preprocessing import MinMaxScaler, StandardScaler\n",
    " \n",
    "# Contoh data\n",
    "data = [[10], [2], [30], [40], [50]]\n",
    " \n",
    "# Min-Max Scaling\n",
    "min_max_scaler = MinMaxScaler()\n",
    "scaled_min_max = min_max_scaler.fit_transform(data)\n",
    "print(\"Min-Max Scaling:\\n\", scaled_min_max)\n",
    " \n",
    "# Standardization\n",
    "standard_scaler = StandardScaler()\n",
    "scaled_standard = standard_scaler.fit_transform(data)\n",
    "print(\"\\nStandardization:\\n\", scaled_standard)"
   ]
  }
 ],
 "metadata": {
  "kernelspec": {
   "display_name": ".venv",
   "language": "python",
   "name": "python3"
  },
  "language_info": {
   "codemirror_mode": {
    "name": "ipython",
    "version": 3
   },
   "file_extension": ".py",
   "mimetype": "text/x-python",
   "name": "python",
   "nbconvert_exporter": "python",
   "pygments_lexer": "ipython3",
   "version": "3.9.5"
  }
 },
 "nbformat": 4,
 "nbformat_minor": 2
}
